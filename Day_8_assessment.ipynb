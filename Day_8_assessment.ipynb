{
  "nbformat": 4,
  "nbformat_minor": 0,
  "metadata": {
    "colab": {
      "provenance": []
    },
    "kernelspec": {
      "name": "python3",
      "display_name": "Python 3"
    },
    "language_info": {
      "name": "python"
    }
  },
  "cells": [
    {
      "cell_type": "code",
      "execution_count": 1,
      "metadata": {
        "colab": {
          "base_uri": "https://localhost:8080/"
        },
        "id": "Ehf5RWEnQ7JJ",
        "outputId": "a515372c-7d09-4c8d-b657-4e8073d87902"
      },
      "outputs": [
        {
          "output_type": "stream",
          "name": "stdout",
          "text": [
            "[2, 4, 6, 8, 10]\n"
          ]
        }
      ],
      "source": [
        "def check_even(number):                              # returns True if the argument passed is even\n",
        "    if number % 2 == 0:\n",
        "          return True\n",
        "    return False\n",
        "numbers = [1, 2, 3, 4, 5, 6, 7, 8, 9, 10]\n",
        "even_numbers_iterator = filter(check_even, numbers)  # if an element passed to check_even() returns True, select it\n",
        "even_numbers = list(even_numbers_iterator)           # converting to list\n",
        "print(even_numbers)\n",
        "\n",
        "\n"
      ]
    }
  ]
}