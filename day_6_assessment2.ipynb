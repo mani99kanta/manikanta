{
  "nbformat": 4,
  "nbformat_minor": 0,
  "metadata": {
    "colab": {
      "provenance": []
    },
    "kernelspec": {
      "name": "python3",
      "display_name": "Python 3"
    },
    "language_info": {
      "name": "python"
    }
  },
  "cells": [
    {
      "cell_type": "code",
      "source": [
        "# (1. example of try Except)\n",
        "try:\n",
        "    numerator = 10\n",
        "    denominator = 0\n",
        "\n",
        "    result = numerator/denominator\n",
        "\n",
        "    print(result)\n",
        "except:\n",
        "    print(\"Error: Denominator cannot be 0.\")"
      ],
      "metadata": {
        "colab": {
          "base_uri": "https://localhost:8080/"
        },
        "id": "7Uyp8vrNFQg1",
        "outputId": "062693a7-37e2-4665-8871-792f258f983d"
      },
      "execution_count": null,
      "outputs": [
        {
          "output_type": "stream",
          "name": "stdout",
          "text": [
            "Error: Denominator cannot be 0.\n"
          ]
        }
      ]
    },
    {
      "cell_type": "code",
      "source": [
        " #(2.example of multiple Except blocks)\n",
        "try:\n",
        "    even_numbers = [2,4,6,8]\n",
        "    print(even_numbers[5])\n",
        "\n",
        "except ZeroDivisionError:\n",
        "    print(\"Denominator cannot be 0.\")\n",
        "\n",
        "except IndexError:\n",
        "    print(\"Index Error.\")"
      ],
      "metadata": {
        "colab": {
          "base_uri": "https://localhost:8080/"
        },
        "id": "nmJLHxA-HoQA",
        "outputId": "78238a33-adaf-407e-d379-787d5f582bc9"
      },
      "execution_count": 12,
      "outputs": [
        {
          "output_type": "stream",
          "name": "stdout",
          "text": [
            "Index Error.\n"
          ]
        }
      ]
    },
    {
      "cell_type": "code",
      "source": [
        "#(3.try with else clause)\n",
        "try:\n",
        "    num = int(input(\"Enter a number: \"))\n",
        "    assert num % 2 == 0\n",
        "except:\n",
        "    print(\"Not an even number!\")\n",
        "else:\n",
        "    reciprocal = 1/num\n",
        "    print(reciprocal)   #If we pass an odd number\n",
        "                        #o/p Not an even number"
      ],
      "metadata": {
        "colab": {
          "base_uri": "https://localhost:8080/"
        },
        "id": "D1TKCgyQJBJD",
        "outputId": "912897de-19b9-4b5b-828f-7939969dda0e"
      },
      "execution_count": null,
      "outputs": [
        {
          "output_type": "stream",
          "name": "stdout",
          "text": [
            "Enter a number: 1\n",
            "Not an even number!\n"
          ]
        }
      ]
    },
    {
      "cell_type": "code",
      "source": [
        "#(4. try with else clause)\n",
        "try:\n",
        "    num = int(input(\"Enter a number: \"))\n",
        "    assert num % 2 == 0\n",
        "except:\n",
        "    print(\"Not an even number!\")\n",
        "else:\n",
        "    reciprocal = 1/num\n",
        "    print(reciprocal)     #If we pass an even number\n",
        "                          #o/p number is displayed"
      ],
      "metadata": {
        "colab": {
          "base_uri": "https://localhost:8080/"
        },
        "id": "TZGaeeEFJ3ss",
        "outputId": "5ed4bf4e-a1a2-4934-9126-03eb4c2c1bb0"
      },
      "execution_count": null,
      "outputs": [
        {
          "output_type": "stream",
          "name": "stdout",
          "text": [
            "Enter a number: 2\n",
            "0.5\n"
          ]
        }
      ]
    },
    {
      "cell_type": "code",
      "source": [
        "#(5.try finally)\n",
        "try:\n",
        "    numerator = 10\n",
        "    denominator = 0\n",
        "\n",
        "    result = numerator/denominator\n",
        "\n",
        "    print(result)\n",
        "except:\n",
        "    print(\"Error: Denominator cannot be 0.\")\n",
        "\n",
        "finally:\n",
        "    print(\"This is finally block.\")"
      ],
      "metadata": {
        "colab": {
          "base_uri": "https://localhost:8080/"
        },
        "id": "JqocXyENKSFs",
        "outputId": "9a8edfcb-5964-4567-febb-ae353d16974b"
      },
      "execution_count": null,
      "outputs": [
        {
          "output_type": "stream",
          "name": "stdout",
          "text": [
            "Error: Denominator cannot be 0.\n",
            "This is finally block.\n"
          ]
        }
      ]
    },
    {
      "cell_type": "code",
      "source": [
        "# (6. EXAMPLE OF SET)\n",
        "\n",
        "student_id = {112, 114, 116, 118, 115}       # create a set of integer type\n",
        "print('Student ID:', student_id)\n",
        "\n",
        "vowel_letters = {'a', 'e', 'i', 'o', 'u'}    # create a set of string type\n",
        "print('Vowel Letters:', vowel_letters)\n",
        "\n",
        "mixed_set = {'Hello', 101, -2, 'Bye'}        # create a set of mixed data types\n",
        "print('Set of mixed data types:', mixed_set)"
      ],
      "metadata": {
        "colab": {
          "base_uri": "https://localhost:8080/"
        },
        "id": "1WvYsxzGLcEU",
        "outputId": "52f53f3b-c3e4-4c34-9ede-d24e31fd69e2"
      },
      "execution_count": null,
      "outputs": [
        {
          "output_type": "stream",
          "name": "stdout",
          "text": [
            "Student ID: {112, 114, 115, 116, 118}\n",
            "Vowel Letters: {'i', 'a', 'e', 'o', 'u'}\n",
            "Set of mixed data types: {'Bye', 'Hello', 101, -2}\n"
          ]
        }
      ]
    },
    {
      "cell_type": "code",
      "source": [
        "#(7. Example of Empty Set)\n",
        "\n",
        "empty_set = set()                                               # create an empty set\n",
        "\n",
        "empty_dictionary = { }                                          # create an empty dictionary\n",
        "\n",
        "print('Data type of empty_set:', type(empty_set))               # check data type of empty_set\n",
        "\n",
        "print('Data type of empty_dictionary', type(empty_dictionary))  # check data type of dictionary_set"
      ],
      "metadata": {
        "colab": {
          "base_uri": "https://localhost:8080/"
        },
        "id": "SsXcsAu4NCZV",
        "outputId": "cb75d7a5-2e75-4794-ca5a-50c53d053e15"
      },
      "execution_count": null,
      "outputs": [
        {
          "output_type": "stream",
          "name": "stdout",
          "text": [
            "Data type of empty_set: <class 'set'>\n",
            "Data type of empty_dictionary <class 'dict'>\n"
          ]
        }
      ]
    },
    {
      "cell_type": "code",
      "source": [
        "#(8. example of duplicate set)\n",
        "numbers = {2, 4, 6, 6, 2, 8}\n",
        "print(numbers)   # {8, 2, 4, 6}"
      ],
      "metadata": {
        "colab": {
          "base_uri": "https://localhost:8080/"
        },
        "id": "2Uow3oI4NkeK",
        "outputId": "edc23d4b-b876-4db3-a8cd-c2f20e6a5587"
      },
      "execution_count": null,
      "outputs": [
        {
          "output_type": "stream",
          "name": "stdout",
          "text": [
            "{8, 2, 4, 6}\n"
          ]
        }
      ]
    },
    {
      "cell_type": "code",
      "source": [
        "#(9. Add items to a set)\n",
        "numbers = {21, 34, 54, 12}\n",
        "\n",
        "print('Initial Set:',numbers)\n",
        "\n",
        "numbers.add(32)                      # using add() method\n",
        "\n",
        "print('Updated Set:', numbers)"
      ],
      "metadata": {
        "colab": {
          "base_uri": "https://localhost:8080/"
        },
        "id": "pTQVV5PDN-ae",
        "outputId": "d8d667ee-230f-417d-f138-090ed54d1f32"
      },
      "execution_count": null,
      "outputs": [
        {
          "output_type": "stream",
          "name": "stdout",
          "text": [
            "Initial Set: {34, 12, 21, 54}\n",
            "Updated Set: {32, 34, 12, 21, 54}\n"
          ]
        }
      ]
    },
    {
      "cell_type": "code",
      "source": [
        "#(10. update items to a set)\n",
        "companies = {'shimakh', 'wipro'}\n",
        "tech_companies = ['apple', 'google', 'apple']\n",
        "\n",
        "companies.update(tech_companies)\n",
        "\n",
        "print(companies)\n"
      ],
      "metadata": {
        "colab": {
          "base_uri": "https://localhost:8080/"
        },
        "id": "gAXcHFBgOR3w",
        "outputId": "c5b27ed9-6ba1-4d1b-ae74-4138262333c7"
      },
      "execution_count": null,
      "outputs": [
        {
          "output_type": "stream",
          "name": "stdout",
          "text": [
            "{'shimakh', 'wipro', 'apple', 'google'}\n"
          ]
        }
      ]
    },
    {
      "cell_type": "code",
      "source": [
        "#(11. remove an item from set)\n",
        "languages = {'Swift', 'Java', 'Python'}\n",
        "\n",
        "print('Initial Set:',languages)\n",
        "\n",
        "removedValue = languages.discard('Java')     # remove 'Java' from a set\n",
        "\n",
        "print('Set after remove():', languages)"
      ],
      "metadata": {
        "colab": {
          "base_uri": "https://localhost:8080/"
        },
        "id": "EGh-uHckO1Nx",
        "outputId": "59e50601-1aea-4e1a-c557-dca58b255909"
      },
      "execution_count": null,
      "outputs": [
        {
          "output_type": "stream",
          "name": "stdout",
          "text": [
            "Initial Set: {'Python', 'Java', 'Swift'}\n",
            "Set after remove(): {'Python', 'Swift'}\n"
          ]
        }
      ]
    },
    {
      "cell_type": "code",
      "source": [
        "# (12.  SET OPERATIONS) UNION OF TWO SETS)\n",
        "\n",
        "A = {1, 3, 5}                              # first set\n",
        "B = {0, 2, 4}                              # second set\n",
        "print('Union using |:', A | B)             # perform union operation using |\n",
        "print('Union using union():', A.union(B))  # perform union operation using union()\n"
      ],
      "metadata": {
        "id": "hyhbGa1KPO23",
        "colab": {
          "base_uri": "https://localhost:8080/"
        },
        "outputId": "2810750c-38bb-4419-e4a1-aa185311fec6"
      },
      "execution_count": 1,
      "outputs": [
        {
          "output_type": "stream",
          "name": "stdout",
          "text": [
            "Union using |: {0, 1, 2, 3, 4, 5}\n",
            "Union using union(): {0, 1, 2, 3, 4, 5}\n"
          ]
        }
      ]
    },
    {
      "cell_type": "code",
      "source": [
        "#(13. Set Intersection)\n",
        "\n",
        "\n",
        "A = {1, 3, 5}                                                   # first set\n",
        "\n",
        "B = {1, 2, 3}                                                   # second set\n",
        "\n",
        "print('Intersection using &:', A & B)                           # perform intersection operation using &\n",
        "\n",
        "print('Intersection using intersection():', A.intersection(B))  # perform intersection operation using intersection()"
      ],
      "metadata": {
        "colab": {
          "base_uri": "https://localhost:8080/"
        },
        "id": "D2YFu8Zl0G8X",
        "outputId": "c99ba093-9d35-4488-dbd4-c8b50268d398"
      },
      "execution_count": 2,
      "outputs": [
        {
          "output_type": "stream",
          "name": "stdout",
          "text": [
            "Intersection using &: {1, 3}\n",
            "Intersection using intersection(): {1, 3}\n"
          ]
        }
      ]
    },
    {
      "cell_type": "code",
      "source": [
        "#(14. Difference between Two Sets)\n",
        "\n",
        "A = {2, 3, 5}                                             # first set\n",
        "\n",
        "B = {1, 2, 6}                                             # second set\n",
        "\n",
        "print('Difference using &:', A - B)                       # perform difference operation using &\n",
        "\n",
        "print('Difference using difference():', A.difference(B))  # perform difference operation using difference()"
      ],
      "metadata": {
        "colab": {
          "base_uri": "https://localhost:8080/"
        },
        "id": "pRIKrK_60R_f",
        "outputId": "7b2f2abd-8594-4b8d-873f-27975153bdab"
      },
      "execution_count": 3,
      "outputs": [
        {
          "output_type": "stream",
          "name": "stdout",
          "text": [
            "Difference using &: {3, 5}\n",
            "Difference using difference(): {3, 5}\n"
          ]
        }
      ]
    },
    {
      "cell_type": "code",
      "source": [
        "#(15. Set Symmetric Difference)\n",
        "\n",
        "A = {2, 3, 5}                                                       # first set\n",
        "\n",
        "B = {1, 2, 6}                                                       # second set\n",
        "\n",
        "print('using ^:', A ^ B)                                            # perform difference operation using &\n",
        "\n",
        "print('using symmetric_difference():', A.symmetric_difference(B))   # using symmetric_difference()"
      ],
      "metadata": {
        "colab": {
          "base_uri": "https://localhost:8080/"
        },
        "id": "HbLvyRv70rXk",
        "outputId": "60c18398-86b8-4f00-cfe1-2a623e724d70"
      },
      "execution_count": 4,
      "outputs": [
        {
          "output_type": "stream",
          "name": "stdout",
          "text": [
            "using ^: {1, 3, 5, 6}\n",
            "using symmetric_difference(): {1, 3, 5, 6}\n"
          ]
        }
      ]
    },
    {
      "cell_type": "code",
      "source": [
        "#(16. Set issuperset)\n",
        "A = {1, 2, 3, 4, 5}\n",
        "B = {1, 2, 3}\n",
        "C = {1, 2, 3}\n",
        "\n",
        "print(A.issuperset(B))   # Returns True\n",
        "\n",
        "print(B.issuperset(A))   # Returns False\n",
        "\n",
        "print(C.issuperset(B))   # Returns True"
      ],
      "metadata": {
        "colab": {
          "base_uri": "https://localhost:8080/"
        },
        "id": "-UUtR2Is1tIT",
        "outputId": "500c71da-45da-469f-c9d2-bd05d3d59d3d"
      },
      "execution_count": 5,
      "outputs": [
        {
          "output_type": "stream",
          "name": "stdout",
          "text": [
            "True\n",
            "False\n",
            "True\n"
          ]
        }
      ]
    },
    {
      "cell_type": "code",
      "source": [
        "#(17. issubset)\n",
        "A = {1, 2, 3}\n",
        "B = {1, 2, 3, 4, 5}\n",
        "\n",
        "print(A.issubset(B))   # all items of A are present in B"
      ],
      "metadata": {
        "colab": {
          "base_uri": "https://localhost:8080/"
        },
        "id": "US0f9Enu2DJc",
        "outputId": "116f7cef-8277-4d79-ce1e-55646e2d3049"
      },
      "execution_count": 6,
      "outputs": [
        {
          "output_type": "stream",
          "name": "stdout",
          "text": [
            "True\n"
          ]
        }
      ]
    },
    {
      "cell_type": "code",
      "source": [
        "#(18. isdisjoint)\n",
        "A = {1, 2, 3,}\n",
        "B = {4, 5, 6}\n",
        "\n",
        "print(A.isdisjoint(B))  # checks if set A and set B are disjoint"
      ],
      "metadata": {
        "colab": {
          "base_uri": "https://localhost:8080/"
        },
        "id": "pxgRDsi82URO",
        "outputId": "5bc1004a-f162-4dae-b3cd-1d6cbfd57fc5"
      },
      "execution_count": 7,
      "outputs": [
        {
          "output_type": "stream",
          "name": "stdout",
          "text": [
            "True\n"
          ]
        }
      ]
    },
    {
      "cell_type": "code",
      "source": [
        "#(19. And operator)\n",
        "n = 7\n",
        "print(n > 5 and n < 10)\n",
        "print(n < 5 and n < 10)"
      ],
      "metadata": {
        "colab": {
          "base_uri": "https://localhost:8080/"
        },
        "id": "baPHM5QU2n9G",
        "outputId": "7ce2a24f-78cd-427d-935d-81edee976f4f"
      },
      "execution_count": 8,
      "outputs": [
        {
          "output_type": "stream",
          "name": "stdout",
          "text": [
            "True\n",
            "False\n"
          ]
        }
      ]
    },
    {
      "cell_type": "code",
      "source": [
        "#(20. Or operator)\n",
        "n = 10\n",
        "print(n < 5 or n < 15)\n",
        "print(n < 5 or n < 7)"
      ],
      "metadata": {
        "colab": {
          "base_uri": "https://localhost:8080/"
        },
        "id": "29hdOAFr6zJf",
        "outputId": "6050cc6c-1d5c-4427-e700-ec971357bfc9"
      },
      "execution_count": 10,
      "outputs": [
        {
          "output_type": "stream",
          "name": "stdout",
          "text": [
            "True\n",
            "False\n"
          ]
        }
      ]
    },
    {
      "cell_type": "code",
      "source": [
        "#(21. NOT Operator)\n",
        "print(\"The value of 'not True': \", not True)\n",
        "print(\"The value of 'not Frue': \", not False)"
      ],
      "metadata": {
        "colab": {
          "base_uri": "https://localhost:8080/"
        },
        "id": "x2MUEKg07dkn",
        "outputId": "85c7e1b4-9003-4720-ee5f-c8e87e8df930"
      },
      "execution_count": 11,
      "outputs": [
        {
          "output_type": "stream",
          "name": "stdout",
          "text": [
            "The value of 'not True':  False\n",
            "The value of 'not Frue':  True\n"
          ]
        }
      ]
    }
  ]
}