{
  "nbformat": 4,
  "nbformat_minor": 0,
  "metadata": {
    "colab": {
      "provenance": []
    },
    "kernelspec": {
      "name": "python3",
      "display_name": "Python 3"
    },
    "language_info": {
      "name": "python"
    }
  },
  "cells": [
    {
      "cell_type": "code",
      "execution_count": null,
      "metadata": {
        "colab": {
          "base_uri": "https://localhost:8080/"
        },
        "id": "Wkzjb8TMT1vt",
        "outputId": "02b15a2e-7a6c-4f8c-aa65-2b1d8112206d"
      },
      "outputs": [
        {
          "output_type": "stream",
          "name": "stdout",
          "text": [
            "[1, 4, 9, 16]\n"
          ]
        }
      ],
      "source": [
        "#list1=[1,2,3,4]\n",
        "#output=[2,4,9,16]\n",
        "l2=[]\n",
        "list1=[1,2,3,4]\n",
        "for i in list1:\n",
        "  l2.append(i**2)\n",
        "print(l2)\n"
      ]
    },
    {
      "cell_type": "code",
      "source": [],
      "metadata": {
        "id": "t-LQxhuWjdxS"
      },
      "execution_count": null,
      "outputs": []
    }
  ]
}